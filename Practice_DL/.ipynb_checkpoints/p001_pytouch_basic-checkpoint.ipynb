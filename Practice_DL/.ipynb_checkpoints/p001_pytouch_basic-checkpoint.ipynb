{
 "cells": [
  {
   "cell_type": "markdown",
   "id": "b856dfe2-bc2a-4c0c-ba4f-e249b4688896",
   "metadata": {},
   "source": [
    "# Tensor - Basic"
   ]
  },
  {
   "cell_type": "code",
   "execution_count": 4,
   "id": "45343aef-1084-4ca6-959f-bde0b82024bd",
   "metadata": {},
   "outputs": [
    {
     "name": "stdout",
     "output_type": "stream",
     "text": [
      "version is :  2.5.1\n",
      "tensor is :  tensor([[1, 2],\n",
      "        [3, 4]])\n"
     ]
    }
   ],
   "source": [
    "import torch\n",
    "print(\"version is : \", torch.__version__)\n",
    "x = [[1,2], [3,4]]\n",
    "x_t = torch.tensor(x)\n",
    "print(\"tensor is : \", x_t)"
   ]
  },
  {
   "cell_type": "code",
   "execution_count": 5,
   "id": "55f0ddc8-5b52-495f-a9f2-94b8b7c4001c",
   "metadata": {},
   "outputs": [
    {
     "name": "stdout",
     "output_type": "stream",
     "text": [
      "numpy to tensor :  tensor([[1, 2],\n",
      "        [3, 4]], dtype=torch.int32)\n"
     ]
    }
   ],
   "source": [
    "import numpy as np\n",
    "x_n = np.array(x)\n",
    "n_t = torch.tensor( x_n )\n",
    "print(\"numpy to tensor : \", n_t)"
   ]
  },
  {
   "cell_type": "code",
   "execution_count": 7,
   "id": "ff6a41e1-7cf1-4dab-854a-6ee85490e8d7",
   "metadata": {},
   "outputs": [
    {
     "name": "stdout",
     "output_type": "stream",
     "text": [
      "tensor to numpy :  <class 'numpy.ndarray'>\n"
     ]
    }
   ],
   "source": [
    "t_n = n_t.numpy()\n",
    "print(\"tensor to numpy : \", type(t_n))"
   ]
  },
  {
   "cell_type": "code",
   "execution_count": 8,
   "id": "1b3f2b15-a338-4774-b5c1-0e818b9fc595",
   "metadata": {},
   "outputs": [
    {
     "data": {
      "text/plain": [
       "tensor([[0.9742, 0.0340, 0.3546],\n",
       "        [0.1136, 0.3787, 0.6545]])"
      ]
     },
     "execution_count": 8,
     "metadata": {},
     "output_type": "execute_result"
    }
   ],
   "source": [
    "rand_t = torch.rand(2,3)\n",
    "rand_t"
   ]
  },
  {
   "cell_type": "code",
   "execution_count": 9,
   "id": "5aa02aa2-df4c-4f8b-8426-01cf4b1c5ced",
   "metadata": {},
   "outputs": [
    {
     "data": {
      "text/plain": [
       "tensor([[0., 0., 0.],\n",
       "        [0., 0., 0.],\n",
       "        [0., 0., 0.]])"
      ]
     },
     "execution_count": 9,
     "metadata": {},
     "output_type": "execute_result"
    }
   ],
   "source": [
    "t_zero = torch.zeros(3,3)\n",
    "t_zero"
   ]
  },
  {
   "cell_type": "code",
   "execution_count": 11,
   "id": "003d4c7b-4583-4ef0-83bb-adc64db5cc08",
   "metadata": {},
   "outputs": [
    {
     "data": {
      "text/plain": [
       "tensor([[1., 1., 1.],\n",
       "        [1., 1., 1.],\n",
       "        [1., 1., 1.]])"
      ]
     },
     "execution_count": 11,
     "metadata": {},
     "output_type": "execute_result"
    }
   ],
   "source": [
    "t_one = torch.ones(3,3)\n",
    "t_one"
   ]
  },
  {
   "cell_type": "code",
   "execution_count": 14,
   "id": "1e13296b-817d-4070-9bd8-3683f45793d4",
   "metadata": {},
   "outputs": [
    {
     "data": {
      "text/plain": [
       "tensor([[1, 2, 3],\n",
       "        [4, 5, 6]])"
      ]
     },
     "execution_count": 14,
     "metadata": {},
     "output_type": "execute_result"
    }
   ],
   "source": [
    "xt = torch.tensor( [[1,2,3,],[4,5,6]] )\n",
    "xt"
   ]
  },
  {
   "cell_type": "code",
   "execution_count": 15,
   "id": "377c3ec9-fa18-4ba8-a3ee-6474c1ed0e18",
   "metadata": {},
   "outputs": [
    {
     "data": {
      "text/plain": [
       "tensor([1, 2, 3])"
      ]
     },
     "execution_count": 15,
     "metadata": {},
     "output_type": "execute_result"
    }
   ],
   "source": [
    "xt[0]"
   ]
  },
  {
   "cell_type": "code",
   "execution_count": 16,
   "id": "e4c49e58-f9cc-4ede-9dc8-59638632dbb2",
   "metadata": {},
   "outputs": [
    {
     "data": {
      "text/plain": [
       "tensor(2)"
      ]
     },
     "execution_count": 16,
     "metadata": {},
     "output_type": "execute_result"
    }
   ],
   "source": [
    "xt[0][1]"
   ]
  },
  {
   "cell_type": "code",
   "execution_count": 17,
   "id": "7dd6c615-397e-4e8a-b3d5-43d3291a81cd",
   "metadata": {},
   "outputs": [
    {
     "data": {
      "text/plain": [
       "tensor([2, 5])"
      ]
     },
     "execution_count": 17,
     "metadata": {},
     "output_type": "execute_result"
    }
   ],
   "source": [
    "xt[:,1]"
   ]
  },
  {
   "cell_type": "code",
   "execution_count": 18,
   "id": "58f4ee0e-be36-40de-a9a1-705f65cd0983",
   "metadata": {},
   "outputs": [
    {
     "data": {
      "text/plain": [
       "tensor([3, 6])"
      ]
     },
     "execution_count": 18,
     "metadata": {},
     "output_type": "execute_result"
    }
   ],
   "source": [
    "xt[:,-1]"
   ]
  },
  {
   "cell_type": "code",
   "execution_count": 19,
   "id": "eaa5b37e-7e17-42bf-9c82-c1fe58fab06e",
   "metadata": {},
   "outputs": [
    {
     "data": {
      "text/plain": [
       "tensor([[  1,   2,   3],\n",
       "        [  4, 100,   6]])"
      ]
     },
     "execution_count": 19,
     "metadata": {},
     "output_type": "execute_result"
    }
   ],
   "source": [
    "xt[1,1] = 100\n",
    "xt"
   ]
  },
  {
   "cell_type": "code",
   "execution_count": 20,
   "id": "c4c6f2e6-4c3b-4307-b638-8d2cc2395209",
   "metadata": {},
   "outputs": [
    {
     "data": {
      "text/plain": [
       "tensor([[ 1,  2,  3],\n",
       "        [22, 22, 22]])"
      ]
     },
     "execution_count": 20,
     "metadata": {},
     "output_type": "execute_result"
    }
   ],
   "source": [
    "xt[1] = 22\n",
    "xt"
   ]
  },
  {
   "cell_type": "code",
   "execution_count": 21,
   "id": "5aec5b84-f73c-4485-8f80-cd9e37966df2",
   "metadata": {},
   "outputs": [],
   "source": [
    "x1 = torch.tensor([[1,2,3],[4,5,6]])\n",
    "x2 = torch.tensor([[7,8,9],[10,11,12]])"
   ]
  },
  {
   "cell_type": "code",
   "execution_count": 22,
   "id": "132191ab-a5d4-4d28-aab7-b9b1f8ee03a7",
   "metadata": {},
   "outputs": [
    {
     "data": {
      "text/plain": [
       "tensor([[ 1,  2,  3],\n",
       "        [ 4,  5,  6],\n",
       "        [ 7,  8,  9],\n",
       "        [10, 11, 12]])"
      ]
     },
     "execution_count": 22,
     "metadata": {},
     "output_type": "execute_result"
    }
   ],
   "source": [
    "con0 = torch.cat([x1,x2], dim=0)\n",
    "con0"
   ]
  },
  {
   "cell_type": "code",
   "execution_count": 23,
   "id": "0fece869-59e4-4c4b-8416-7df14369b386",
   "metadata": {},
   "outputs": [
    {
     "data": {
      "text/plain": [
       "tensor([[ 1,  2,  3,  7,  8,  9],\n",
       "        [ 4,  5,  6, 10, 11, 12]])"
      ]
     },
     "execution_count": 23,
     "metadata": {},
     "output_type": "execute_result"
    }
   ],
   "source": [
    "con1 = torch.cat([x1,x2], dim=1)\n",
    "con1"
   ]
  },
  {
   "cell_type": "code",
   "execution_count": 24,
   "id": "7a5bdec3-f9a2-4033-9042-0012836d14a5",
   "metadata": {},
   "outputs": [
    {
     "data": {
      "text/plain": [
       "tensor([[1, 2, 3],\n",
       "        [4, 5, 6]])"
      ]
     },
     "execution_count": 24,
     "metadata": {},
     "output_type": "execute_result"
    }
   ],
   "source": [
    "x1"
   ]
  },
  {
   "cell_type": "code",
   "execution_count": 25,
   "id": "110a8391-bd3b-4ff9-b7d6-6a9754d7d3cf",
   "metadata": {},
   "outputs": [
    {
     "data": {
      "text/plain": [
       "tensor([[1, 2],\n",
       "        [3, 4],\n",
       "        [5, 6]])"
      ]
     },
     "execution_count": 25,
     "metadata": {},
     "output_type": "execute_result"
    }
   ],
   "source": [
    "x1.reshape(3,2)"
   ]
  },
  {
   "cell_type": "code",
   "execution_count": 26,
   "id": "bef7c5f9-2897-4833-82dd-b40c9502fe46",
   "metadata": {},
   "outputs": [
    {
     "data": {
      "text/plain": [
       "tensor([[1, 2, 3],\n",
       "        [4, 5, 6]])"
      ]
     },
     "execution_count": 26,
     "metadata": {},
     "output_type": "execute_result"
    }
   ],
   "source": [
    "x1"
   ]
  },
  {
   "cell_type": "code",
   "execution_count": 27,
   "id": "672f08a6-7392-43b8-9627-e22c557e32cd",
   "metadata": {},
   "outputs": [
    {
     "data": {
      "text/plain": [
       "tensor([[1, 4],\n",
       "        [2, 5],\n",
       "        [3, 6]])"
      ]
     },
     "execution_count": 27,
     "metadata": {},
     "output_type": "execute_result"
    }
   ],
   "source": [
    "x1.T"
   ]
  },
  {
   "cell_type": "code",
   "execution_count": 29,
   "id": "dfd02d73-e4ee-46b6-85f7-bf87248e2cb4",
   "metadata": {},
   "outputs": [
    {
     "data": {
      "text/plain": [
       "tensor([[ 7, 16, 27],\n",
       "        [40, 55, 72]])"
      ]
     },
     "execution_count": 29,
     "metadata": {},
     "output_type": "execute_result"
    }
   ],
   "source": [
    "x3 = x1*x2\n",
    "x3"
   ]
  },
  {
   "cell_type": "code",
   "execution_count": 31,
   "id": "5998a69f-0ebc-4f58-983d-5bc2b0978b31",
   "metadata": {},
   "outputs": [
    {
     "data": {
      "text/plain": [
       "tensor([[ 7, 16, 27],\n",
       "        [40, 55, 72]])"
      ]
     },
     "execution_count": 31,
     "metadata": {},
     "output_type": "execute_result"
    }
   ],
   "source": [
    "x3 = x1.mul(x2)\n",
    "x3"
   ]
  },
  {
   "cell_type": "code",
   "execution_count": 33,
   "id": "78e752df-a82c-4466-a587-fbf370cabadd",
   "metadata": {},
   "outputs": [
    {
     "data": {
      "text/plain": [
       "tensor([[ 50,  68],\n",
       "        [122, 167]])"
      ]
     },
     "execution_count": 33,
     "metadata": {},
     "output_type": "execute_result"
    }
   ],
   "source": [
    "x3 = x1.matmul(x2.T)\n",
    "x3"
   ]
  },
  {
   "cell_type": "markdown",
   "id": "1daf97f5-d9ca-43a7-a546-19c7d4279ccc",
   "metadata": {},
   "source": [
    "# Data - basic"
   ]
  },
  {
   "cell_type": "code",
   "execution_count": 46,
   "id": "2baec032-65a2-4707-9220-e15d6e936117",
   "metadata": {},
   "outputs": [],
   "source": [
    "import torch\n",
    "from torch.utils.data import DataLoader\n",
    "from torchvision import datasets, transforms\n",
    "import matplotlib.pyplot as plt"
   ]
  },
  {
   "cell_type": "code",
   "execution_count": 47,
   "id": "0f772593-8664-41ab-82bc-1bfa6661d96f",
   "metadata": {},
   "outputs": [],
   "source": [
    "train_data = datasets.MNIST(\n",
    "    root=\"data\",\n",
    "    train=True,\n",
    "    download=True,\n",
    "    transform=transforms.ToTensor(),\n",
    ")\n",
    "test_data = datasets.MNIST(\n",
    "    root=\"data\",\n",
    "    train=False,\n",
    "    download=True,\n",
    "    transform=transforms.ToTensor(),\n",
    ")\n"
   ]
  },
  {
   "cell_type": "code",
   "execution_count": 48,
   "id": "d79ef12f-53ee-4d9b-b979-07a9047c531a",
   "metadata": {},
   "outputs": [
    {
     "data": {
      "text/plain": [
       "Dataset MNIST\n",
       "    Number of datapoints: 60000\n",
       "    Root location: data\n",
       "    Split: Train\n",
       "    StandardTransform\n",
       "Transform: ToTensor()"
      ]
     },
     "execution_count": 48,
     "metadata": {},
     "output_type": "execute_result"
    }
   ],
   "source": [
    "train_data"
   ]
  },
  {
   "cell_type": "code",
   "execution_count": 49,
   "id": "eeac997a-e1a8-477f-b16d-49a15f88a211",
   "metadata": {},
   "outputs": [
    {
     "data": {
      "text/plain": [
       "Dataset MNIST\n",
       "    Number of datapoints: 10000\n",
       "    Root location: data\n",
       "    Split: Test\n",
       "    StandardTransform\n",
       "Transform: ToTensor()"
      ]
     },
     "execution_count": 49,
     "metadata": {},
     "output_type": "execute_result"
    }
   ],
   "source": [
    "test_data"
   ]
  },
  {
   "cell_type": "code",
   "execution_count": 54,
   "id": "296a9bcd-b8e2-479e-8f4e-a679d74a655b",
   "metadata": {},
   "outputs": [],
   "source": [
    "train_loader = DataLoader( train_data, batch_size=128, shuffle=True )\n",
    "test_loader = DataLoader( test_data, batch_size=128, shuffle=False )"
   ]
  },
  {
   "cell_type": "code",
   "execution_count": 58,
   "id": "d0b00149-f174-403d-94dc-875ecfce10e7",
   "metadata": {},
   "outputs": [
    {
     "name": "stdout",
     "output_type": "stream",
     "text": [
      "torch.Size([128, 1, 28, 28])\n",
      "torch.Size([128])\n"
     ]
    }
   ],
   "source": [
    "images, labels = next(iter(train_loader))\n",
    "print(images.shape)\n",
    "print(labels.shape)"
   ]
  },
  {
   "cell_type": "code",
   "execution_count": 61,
   "id": "2fa7eb7a-3966-4e05-8440-8c5c82a01c51",
   "metadata": {},
   "outputs": [
    {
     "name": "stdout",
     "output_type": "stream",
     "text": [
      "torch.Size([1, 28, 28])\n",
      "tensor(4)\n"
     ]
    },
    {
     "data": {
      "image/png": "[encoded data removed]",
      "text/plain": [
       "<Figure size 640x480 with 1 Axes>"
      ]
     },
     "metadata": {},
     "output_type": "display_data"
    }
   ],
   "source": [
    "plt.imshow( images[0].reshape(28,28) )\n",
    "print(images[0].shape)\n",
    "print(labels[0])"
   ]
  },
  {
   "cell_type": "code",
   "execution_count": 62,
   "id": "2b872a1f-3600-42a9-8ef3-9a45e42e4320",
   "metadata": {},
   "outputs": [
    {
     "name": "stdout",
     "output_type": "stream",
     "text": [
      "Downloading https://www.cs.toronto.edu/~kriz/cifar-10-python.tar.gz to data\\cifar-10-python.tar.gz\n"
     ]
    },
    {
     "name": "stderr",
     "output_type": "stream",
     "text": [
      "100%|██████████| 170M/170M [00:30<00:00, 5.59MB/s] \n"
     ]
    },
    {
     "name": "stdout",
     "output_type": "stream",
     "text": [
      "Extracting data\\cifar-10-python.tar.gz to data\n",
      "Files already downloaded and verified\n"
     ]
    }
   ],
   "source": [
    "train_data = datasets.CIFAR10(\n",
    "    root=\"data\",\n",
    "    train=True,\n",
    "    download=True,\n",
    "    transform=transforms.ToTensor(),\n",
    ")\n",
    "test_data = datasets.CIFAR10(\n",
    "    root=\"data\",\n",
    "    train=False,\n",
    "    download=True,\n",
    "    transform=transforms.ToTensor(),\n",
    ")\n"
   ]
  },
  {
   "cell_type": "code",
   "execution_count": 63,
   "id": "46edee48-a9e6-465c-8153-9ac0b40d1457",
   "metadata": {},
   "outputs": [],
   "source": [
    "train_loader = DataLoader( train_data, batch_size=128, shuffle=True )\n",
    "test_loader = DataLoader( test_data, batch_size=128, shuffle=False )"
   ]
  },
  {
   "cell_type": "code",
   "execution_count": 64,
   "id": "9630e395-cd7f-4c44-b9c0-70a62201e89a",
   "metadata": {},
   "outputs": [
    {
     "name": "stdout",
     "output_type": "stream",
     "text": [
      "torch.Size([128, 3, 32, 32])\n",
      "torch.Size([128])\n"
     ]
    }
   ],
   "source": [
    "images, labels = next(iter(train_loader))\n",
    "print(images.shape)\n",
    "print(labels.shape)"
   ]
  },
  {
   "cell_type": "code",
   "execution_count": 67,
   "id": "2f8cc2a7-2fdf-4c06-b150-8120922380ad",
   "metadata": {},
   "outputs": [
    {
     "name": "stdout",
     "output_type": "stream",
     "text": [
      "torch.Size([3, 32, 32])\n",
      "tensor(7)\n"
     ]
    },
    {
     "data": {
      "image/png": "[encoded data removed]",
      "text/plain": [
       "<Figure size 640x480 with 1 Axes>"
      ]
     },
     "metadata": {},
     "output_type": "display_data"
    }
   ],
   "source": [
    "plt.imshow( np.transpose(images[1].numpy(), (1,2,0)) )\n",
    "print(images[1].shape)\n",
    "print(labels[1])"
   ]
  },
  {
   "cell_type": "markdown",
   "id": "31ef794b-36e2-4c6b-a99b-fb23b8ff10cf",
   "metadata": {},
   "source": [
    "# Custom Data Loader"
   ]
  },
  {
   "cell_type": "code",
   "execution_count": 96,
   "id": "1f31d350-d4eb-415b-8f02-3c7cd9f9721b",
   "metadata": {},
   "outputs": [],
   "source": [
    "from torch.utils.data import Dataset, DataLoader\n",
    "import torch\n",
    "import pandas as pd"
   ]
  },
  {
   "cell_type": "code",
   "execution_count": 106,
   "id": "7dd087ef-ae0b-40b9-b9bc-40c49aeb9549",
   "metadata": {},
   "outputs": [],
   "source": [
    "class my_dataset( Dataset ) :\n",
    "    def __init__(self, data, labels) :\n",
    "        self.data = data\n",
    "        self.labels = labels\n",
    "\n",
    "    def __len__(self) :\n",
    "        return len(self.labels)\n",
    "\n",
    "    def __getitem__(self, idx) :\n",
    "        data = self.data[idx]\n",
    "        label = self.labels[idx]\n",
    "        sample = {\"data\" : data, \"class\" : label}\n",
    "        return sample"
   ]
  },
  {
   "cell_type": "code",
   "execution_count": 107,
   "id": "58494d4b-4c31-4679-9f93-ae523110d70c",
   "metadata": {},
   "outputs": [],
   "source": [
    "data = [\"11\", \"22\", \"33\", \"44\", \"55\", \"66\"]\n",
    "labels = [1,2,3,2,1,1]\n",
    "\n",
    "dtfram = pd.DataFrame({\"Data\" : data, \"Labels\" : labels})\n",
    "data = my_dataset( dtfram[\"Data\"], dtfram[\"Labels\"] )"
   ]
  },
  {
   "cell_type": "code",
   "execution_count": 108,
   "id": "f5c64725-784c-4560-ba93-9ccfb24c9a50",
   "metadata": {},
   "outputs": [
    {
     "name": "stdout",
     "output_type": "stream",
     "text": [
      "{'data': '11', 'class': 1}\n",
      "# of data :  6\n",
      "full # of data :  [{'data': ['11'], 'class': tensor([1])}, {'data': ['22'], 'class': tensor([2])}, {'data': ['33'], 'class': tensor([3])}, {'data': ['44'], 'class': tensor([2])}, {'data': ['55'], 'class': tensor([1])}, {'data': ['66'], 'class': tensor([1])}]\n"
     ]
    }
   ],
   "source": [
    "print( next(iter( data ) ) )\n",
    "print(\"# of data : \", len(data) )\n",
    "print(\"full # of data : \", list( DataLoader(data)) )"
   ]
  },
  {
   "cell_type": "code",
   "execution_count": null,
   "id": "bc372a30-516e-4e11-8269-0fb7a458936c",
   "metadata": {},
   "outputs": [],
   "source": []
  }
 ],
 "metadata": {
  "kernelspec": {
   "display_name": "Python 3 (ipykernel)",
   "language": "python",
   "name": "python3"
  },
  "language_info": {
   "codemirror_mode": {
    "name": "ipython",
    "version": 3
   },
   "file_extension": ".py",
   "mimetype": "text/x-python",
   "name": "python",
   "nbconvert_exporter": "python",
   "pygments_lexer": "ipython3",
   "version": "3.12.7"
  }
 },
 "nbformat": 4,
 "nbformat_minor": 5
}
