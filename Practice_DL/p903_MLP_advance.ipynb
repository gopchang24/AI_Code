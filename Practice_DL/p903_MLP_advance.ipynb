{
 "cells": [
  {
   "cell_type": "markdown",
   "id": "4cdee11a-6882-4682-b2c4-8f978ba9aaf0",
   "metadata": {},
   "source": [
    "# Multi Layer Perceptron advance"
   ]
  },
  {
   "cell_type": "code",
   "execution_count": 15,
   "id": "7a592cee-862e-4324-8497-7b5665f7787b",
   "metadata": {},
   "outputs": [
    {
     "name": "stdout",
     "output_type": "stream",
     "text": [
      "train_data :  Dataset MNIST\n",
      "    Number of datapoints: 60000\n",
      "    Root location: ../data\n",
      "    Split: Train\n",
      "    StandardTransform\n",
      "Transform: ToTensor()\n",
      "train_loader :  <torch.utils.data.dataloader.DataLoader object at 0x00000111B4B6B650>\n"
     ]
    }
   ],
   "source": [
    "# load lib and data\n",
    "import torch\n",
    "import torch.nn as nn\n",
    "import torchvision\n",
    "from torchvision import datasets, transforms\n",
    "from torch.utils.data import DataLoader\n",
    "\n",
    "# MNIST 데이터셋 \n",
    "train_data = datasets.MNIST(\n",
    "    root=\"../data\",\n",
    "    train=True,\n",
    "    download=True,\n",
    "    transform=transforms.ToTensor(),\n",
    ")\n",
    "\n",
    "test_data = datasets.MNIST(\n",
    "    root=\"../data\",\n",
    "    train=False,\n",
    "    download=True,\n",
    "    transform=transforms.ToTensor(),\n",
    ")\n",
    "\n",
    "print(\"train_data : \", train_data)\n",
    "\n",
    "# Data loader\n",
    "train_loader = DataLoader(train_data, batch_size=128, shuffle=True)\n",
    "test_loader = DataLoader(test_data, batch_size=128, shuffle=False)\n",
    "\n",
    "print(\"train_loader : \", train_loader)"
   ]
  },
  {
   "cell_type": "code",
   "execution_count": 4,
   "id": "2220e9da-2871-4343-8308-d378897d388d",
   "metadata": {},
   "outputs": [],
   "source": [
    "## Model"
   ]
  },
  {
   "cell_type": "code",
   "execution_count": 9,
   "id": "4fe1d3b0-1596-4f41-a96a-353ff918b2d4",
   "metadata": {},
   "outputs": [],
   "source": [
    "# def model\n",
    "class Model(nn.Module):\n",
    "    def __init__(self, input_size, hidden_size, num_classes):\n",
    "        super(Model, self).__init__()\n",
    "        self.mlp1 = nn.Linear(input_size, hidden_size) \n",
    "        self.relu = nn.ReLU()\n",
    "        self.mlp2 = nn.Linear(hidden_size, num_classes)  \n",
    "        \n",
    "    def forward(self, x):\n",
    "        out = self.mlp1(x)\n",
    "        out = self.relu(out)\n",
    "        out = self.mlp2(out)\n",
    "        \n",
    "        return out\n",
    "\n",
    "device = torch.device('cuda' if torch.cuda.is_available() else 'cpu')\n",
    "model = Model(input_size=28*28*1, hidden_size=100, num_classes=10).to(device)"
   ]
  },
  {
   "cell_type": "code",
   "execution_count": 21,
   "id": "15da3a8a-5b54-4d56-814b-fe9a4adf3431",
   "metadata": {},
   "outputs": [],
   "source": [
    "# def optimizer\n",
    "adam_opti = torch.optim.Adam( model.parameters(), lr=0.001)\n",
    "\n",
    "# def loss\n",
    "CELoss = nn.CrossEntropyLoss()"
   ]
  },
  {
   "cell_type": "code",
   "execution_count": 25,
   "id": "7d818c4e-64e6-4126-86ea-9c598e8a2aa5",
   "metadata": {},
   "outputs": [
    {
     "name": "stdout",
     "output_type": "stream",
     "text": [
      "number of iteration :  469\n",
      "ephoch [1/3], Loss : 0.1883\n",
      "ephoch [2/3], Loss : 0.1226\n",
      "ephoch [3/3], Loss : 0.1421\n"
     ]
    }
   ],
   "source": [
    "# neural network model learning\n",
    "tot_epochs = 3\n",
    "print(\"number of iteration : \", len( train_loader ) )\n",
    "for epo in range( tot_epochs ) :\n",
    "    for i, (images, labels) in enumerate( train_loader ) :\n",
    "        # reshape for learning\n",
    "        images = images.reshape(-1, 28*28).to(device)\n",
    "        labels = labels.to(device)\n",
    "        # foward pass\n",
    "        outputs = model(images)\n",
    "        ce_loss = CELoss( outputs, labels )\n",
    "        # backward and optimize\n",
    "        adam_opti.zero_grad() # apply several techniques\n",
    "        ce_loss.backward() # backward propagation\n",
    "        adam_opti.step() # run optimizer\n",
    "    print(\"ephoch [{}/{}], Loss : {:.4f}\".format( epo+1, tot_epochs, ce_loss.item() ) )"
   ]
  },
  {
   "cell_type": "code",
   "execution_count": 36,
   "id": "6d555601-cc52-4b83-96ee-e3035b7a9b3e",
   "metadata": {},
   "outputs": [
    {
     "name": "stdout",
     "output_type": "stream",
     "text": [
      "torch.Size([128, 10])\n",
      "torch.Size([128, 10])\n",
      "torch.Size([128, 10])\n",
      "torch.Size([128, 10])\n",
      "torch.Size([128, 10])\n",
      "torch.Size([128, 10])\n",
      "torch.Size([128, 10])\n",
      "torch.Size([128, 10])\n",
      "torch.Size([128, 10])\n",
      "torch.Size([128, 10])\n",
      "torch.Size([128, 10])\n",
      "torch.Size([128, 10])\n",
      "torch.Size([128, 10])\n",
      "torch.Size([128, 10])\n",
      "torch.Size([128, 10])\n",
      "torch.Size([128, 10])\n",
      "torch.Size([128, 10])\n",
      "torch.Size([128, 10])\n",
      "torch.Size([128, 10])\n",
      "torch.Size([128, 10])\n",
      "torch.Size([128, 10])\n",
      "torch.Size([128, 10])\n",
      "torch.Size([128, 10])\n",
      "torch.Size([128, 10])\n",
      "torch.Size([128, 10])\n",
      "torch.Size([128, 10])\n",
      "torch.Size([128, 10])\n",
      "torch.Size([128, 10])\n",
      "torch.Size([128, 10])\n",
      "torch.Size([128, 10])\n",
      "torch.Size([128, 10])\n",
      "torch.Size([128, 10])\n",
      "torch.Size([128, 10])\n",
      "torch.Size([128, 10])\n",
      "torch.Size([128, 10])\n",
      "torch.Size([128, 10])\n",
      "torch.Size([128, 10])\n",
      "torch.Size([128, 10])\n",
      "torch.Size([128, 10])\n",
      "torch.Size([128, 10])\n",
      "torch.Size([128, 10])\n",
      "torch.Size([128, 10])\n",
      "torch.Size([128, 10])\n",
      "torch.Size([128, 10])\n",
      "torch.Size([128, 10])\n",
      "torch.Size([128, 10])\n",
      "torch.Size([128, 10])\n",
      "torch.Size([128, 10])\n",
      "torch.Size([128, 10])\n",
      "torch.Size([128, 10])\n",
      "torch.Size([128, 10])\n",
      "torch.Size([128, 10])\n",
      "torch.Size([128, 10])\n",
      "torch.Size([128, 10])\n",
      "torch.Size([128, 10])\n",
      "torch.Size([128, 10])\n",
      "torch.Size([128, 10])\n",
      "torch.Size([128, 10])\n",
      "torch.Size([128, 10])\n",
      "torch.Size([128, 10])\n",
      "torch.Size([128, 10])\n",
      "torch.Size([128, 10])\n",
      "torch.Size([128, 10])\n",
      "torch.Size([128, 10])\n",
      "torch.Size([128, 10])\n",
      "torch.Size([128, 10])\n",
      "torch.Size([128, 10])\n",
      "torch.Size([128, 10])\n",
      "torch.Size([128, 10])\n",
      "torch.Size([128, 10])\n",
      "torch.Size([128, 10])\n",
      "torch.Size([128, 10])\n",
      "torch.Size([128, 10])\n",
      "torch.Size([128, 10])\n",
      "torch.Size([128, 10])\n",
      "torch.Size([128, 10])\n",
      "torch.Size([128, 10])\n",
      "torch.Size([128, 10])\n",
      "torch.Size([16, 10])\n",
      "accuracy no network of the 10000 test images : 96.57 %\n"
     ]
    }
   ],
   "source": [
    "# performance test\n",
    "with torch.no_grad() :\n",
    "    cor = 0\n",
    "    total = 0\n",
    "    for images, labels, in test_loader :\n",
    "        images = images.reshape(-1, 28*28).to(device)\n",
    "        labels = labels.to(device)\n",
    "        outputs = model(images)\n",
    "        print(outputs.shape)\n",
    "        _, pred = torch.max(outputs.data, dim=1)\n",
    "        total += labels.size(0)\n",
    "        cor += (pred == labels).sum().item()\n",
    "print(\"accuracy no network of the 10000 test images : {} %\".format( 100*cor/total ) )"
   ]
  },
  {
   "cell_type": "code",
   "execution_count": null,
   "id": "401a379c-7702-46ce-9051-a68ac5c08b3e",
   "metadata": {},
   "outputs": [],
   "source": []
  }
 ],
 "metadata": {
  "kernelspec": {
   "display_name": "Python 3 (ipykernel)",
   "language": "python",
   "name": "python3"
  },
  "language_info": {
   "codemirror_mode": {
    "name": "ipython",
    "version": 3
   },
   "file_extension": ".py",
   "mimetype": "text/x-python",
   "name": "python",
   "nbconvert_exporter": "python",
   "pygments_lexer": "ipython3",
   "version": "3.12.7"
  }
 },
 "nbformat": 4,
 "nbformat_minor": 5
}
