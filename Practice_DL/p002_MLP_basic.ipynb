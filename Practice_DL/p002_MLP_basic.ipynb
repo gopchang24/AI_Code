{
 "cells": [
  {
   "cell_type": "markdown",
   "id": "fc25df67-a1e7-4fcc-945a-97417e654dba",
   "metadata": {},
   "source": [
    "# MultiLayer Perceptron - Basic"
   ]
  },
  {
   "cell_type": "code",
   "execution_count": 1,
   "id": "684e6b21-54ac-4631-9d98-0a1bfa9f7cd7",
   "metadata": {},
   "outputs": [],
   "source": [
    "# Load library\n",
    "import os\n",
    "import torch\n",
    "from torch import nn\n",
    "from torch.utils.data import DataLoader\n",
    "from torchvision import datasets, transforms"
   ]
  },
  {
   "cell_type": "markdown",
   "id": "dc73b20e-e993-41fa-867b-fda49f227798",
   "metadata": {},
   "source": [
    "## Deep Learning Model study"
   ]
  },
  {
   "cell_type": "code",
   "execution_count": 2,
   "id": "e573421d-55cf-436c-bbb7-64db513ea200",
   "metadata": {},
   "outputs": [],
   "source": [
    "# def class for MLP\n",
    "class NeuralNet(nn.Module):\n",
    "    def __init__(self, input_size, hidden_size, num_classes):\n",
    "        super(NeuralNet, self).__init__()\n",
    "        self.mlp1 = nn.Linear(input_size, hidden_size) \n",
    "        self.relu = nn.ReLU()\n",
    "        self.mlp2 = nn.Linear(hidden_size, num_classes)  \n",
    "        self.softmax = nn.Softmax(dim=1)\n",
    "    def forward(self, x):\n",
    "        out = self.mlp1(x)\n",
    "        out = self.relu(out)\n",
    "        out = self.mlp2(out)\n",
    "        out = self.softmax(out)\n",
    "        return out"
   ]
  },
  {
   "cell_type": "code",
   "execution_count": 3,
   "id": "f19c0975-91c7-4aca-8c3c-5e8afd18dd0f",
   "metadata": {},
   "outputs": [
    {
     "name": "stdout",
     "output_type": "stream",
     "text": [
      "cpu\n"
     ]
    }
   ],
   "source": [
    "# check CUDA or CPU\n",
    "device = torch.device(\"cuda\" if torch.cuda.is_available() else \"cpu\")\n",
    "print(device)"
   ]
  },
  {
   "cell_type": "code",
   "execution_count": 4,
   "id": "ba316e30-a81b-484c-ac10-54ca05b0fbb8",
   "metadata": {},
   "outputs": [
    {
     "name": "stdout",
     "output_type": "stream",
     "text": [
      "NeuralNet(\n",
      "  (mlp1): Linear(in_features=784, out_features=50, bias=True)\n",
      "  (relu): ReLU()\n",
      "  (mlp2): Linear(in_features=50, out_features=10, bias=True)\n",
      "  (softmax): Softmax(dim=1)\n",
      ")\n"
     ]
    }
   ],
   "source": [
    "# def input paramters\n",
    "input_size = 28*28 # MNIST image size\n",
    "hidden_size = 50 # number of hidden neurals\n",
    "num_classes = 10 # number of classes\n",
    "\n",
    "model = NeuralNet( input_size, hidden_size, num_classes)\n",
    "print(model)"
   ]
  },
  {
   "cell_type": "code",
   "execution_count": 5,
   "id": "af5a3849-032e-4e52-8020-6b54497dceba",
   "metadata": {},
   "outputs": [
    {
     "name": "stdout",
     "output_type": "stream",
     "text": [
      "full prediction is :  tensor([[0.0966, 0.0825, 0.1117, 0.1205, 0.0899, 0.1054, 0.1000, 0.1006, 0.1078,\n",
      "         0.0851]], grad_fn=<SoftmaxBackward0>)\n",
      "prediction is :  tensor([3])\n"
     ]
    }
   ],
   "source": [
    "# gen test data and prediction\n",
    "data = torch.rand(1,28*28).to(device)\n",
    "pred = model(data)\n",
    "y_hat = pred.argmax(1)\n",
    "print(\"full prediction is : \", pred)\n",
    "print(\"prediction is : \", y_hat)"
   ]
  },
  {
   "cell_type": "markdown",
   "id": "68cfacad-394a-49f4-9df4-8cfba5250165",
   "metadata": {},
   "source": [
    "## torch.ReLU study"
   ]
  },
  {
   "cell_type": "code",
   "execution_count": 6,
   "id": "58f406b2-0b1c-4b80-92c8-4f8f14bd5d8d",
   "metadata": {},
   "outputs": [
    {
     "name": "stdout",
     "output_type": "stream",
     "text": [
      "before relu is :  tensor([-1.2185, -0.8429,  0.4079,  0.2938,  0.0479,  0.8280, -1.1439, -0.9438,\n",
      "         1.0315,  1.7447, -1.5439,  0.0391,  0.2794, -0.3086, -0.8768, -2.2528,\n",
      "         0.0790,  1.2323, -1.4270,  0.3610, -0.0031,  1.0026, -0.6192,  0.7143,\n",
      "        -0.3116, -0.9237, -0.6233, -0.6657])\n",
      "after relu is :  tensor([0.0000, 0.0000, 0.4079, 0.2938, 0.0479, 0.8280, 0.0000, 0.0000, 1.0315,\n",
      "        1.7447, 0.0000, 0.0391, 0.2794, 0.0000, 0.0000, 0.0000, 0.0790, 1.2323,\n",
      "        0.0000, 0.3610, 0.0000, 1.0026, 0.0000, 0.7143, 0.0000, 0.0000, 0.0000,\n",
      "        0.0000])\n"
     ]
    }
   ],
   "source": [
    "# gen test data\n",
    "x = torch.randn(3,28,28)\n",
    "# test ReLU\n",
    "be_relu = x[0][0]\n",
    "print(\"before relu is : \", be_relu )\n",
    "relu = nn.ReLU()\n",
    "af_relu = relu(be_relu)\n",
    "print(\"after relu is : \", af_relu )"
   ]
  },
  {
   "cell_type": "markdown",
   "id": "4520c79e-25ac-425c-8a93-5c93f80da2da",
   "metadata": {},
   "source": [
    "## torch.Softmax study"
   ]
  },
  {
   "cell_type": "code",
   "execution_count": 7,
   "id": "cc986322-4885-48e7-a2db-8e19537e97dd",
   "metadata": {},
   "outputs": [
    {
     "data": {
      "text/plain": [
       "tensor([[-0.9422,  0.9728, -1.4662,  0.3217, -0.1861,  1.9047, -1.6034, -0.2755,\n",
       "          0.7304,  0.4030]])"
      ]
     },
     "execution_count": 7,
     "metadata": {},
     "output_type": "execute_result"
    }
   ],
   "source": [
    "x = torch.randn(1,10)\n",
    "x"
   ]
  },
  {
   "cell_type": "code",
   "execution_count": 8,
   "id": "738f76dd-0a58-4e55-a4d5-75d49acb656e",
   "metadata": {},
   "outputs": [
    {
     "name": "stdout",
     "output_type": "stream",
     "text": [
      "before :  tensor([[-0.9422,  0.9728, -1.4662,  0.3217, -0.1861,  1.9047, -1.6034, -0.2755,\n",
      "          0.7304,  0.4030]])\n",
      "after :  tensor([[0.0233, 0.1582, 0.0138, 0.0825, 0.0496, 0.4016, 0.0120, 0.0454, 0.1241,\n",
      "         0.0895]])\n",
      "pred.sum() is :  tensor(1.)\n"
     ]
    }
   ],
   "source": [
    "softmax = nn.Softmax( dim=1 )\n",
    "pred = softmax( x )\n",
    "print(\"before : \", x )\n",
    "print(\"after : \", pred )\n",
    "print(\"pred.sum() is : \", pred.sum())"
   ]
  },
  {
   "cell_type": "markdown",
   "id": "288e738b-3e28-47e8-b633-aa5584a72dd3",
   "metadata": {},
   "source": [
    "## torch.Sequential study"
   ]
  },
  {
   "cell_type": "code",
   "execution_count": 9,
   "id": "fa44a4b6-a278-417f-b4af-e51509073ebf",
   "metadata": {},
   "outputs": [],
   "source": [
    "# default\n",
    "class NeuralNet(nn.Module):\n",
    "    def __init__(self, input_size, hidden_size, num_classes):\n",
    "        super(NeuralNet, self).__init__()\n",
    "        self.mlp1 = nn.Linear(input_size, hidden_size) \n",
    "        self.relu = nn.ReLU()\n",
    "        self.mlp2 = nn.Linear(hidden_size, num_classes)  \n",
    "        self.softmax = nn.Softmax(dim=1)\n",
    "    def forward(self, x):\n",
    "        out = self.mlp1(x)\n",
    "        out = self.relu(out)\n",
    "        out = self.mlp2(out)\n",
    "        out = self.softmax(out)\n",
    "        return out"
   ]
  },
  {
   "cell_type": "code",
   "execution_count": 10,
   "id": "044c7381-f442-4e90-a727-bd257460255c",
   "metadata": {},
   "outputs": [
    {
     "name": "stdout",
     "output_type": "stream",
     "text": [
      "NeuralNet(\n",
      "  (mlp1): Linear(in_features=784, out_features=100, bias=True)\n",
      "  (relu): ReLU()\n",
      "  (mlp2): Linear(in_features=100, out_features=10, bias=True)\n",
      "  (softmax): Softmax(dim=1)\n",
      ")\n"
     ]
    }
   ],
   "source": [
    "# input paramters\n",
    "input_size = 28*28*1 # MNIST image size\n",
    "hidden_size = 100 # hyper parameter\n",
    "num_classes = 10 # class number\n",
    "\n",
    "# def model\n",
    "model = NeuralNet(input_size, hidden_size, num_classes).to(device)\n",
    "print(model)"
   ]
  },
  {
   "cell_type": "code",
   "execution_count": 11,
   "id": "e749b8c8-6207-42c2-b557-f2be3df75185",
   "metadata": {},
   "outputs": [],
   "source": [
    "# nn.Sequential : \n",
    "\n",
    "class NeuralNet2(nn.Module):\n",
    "    def __init__(self, input_size, hidden_size, num_classes):\n",
    "        super(NeuralNet2, self).__init__()\n",
    "        sequential = nn.Sequential(\n",
    "            nn.Linear(input_size, hidden_size),\n",
    "            nn.ReLU(),\n",
    "            nn.Linear(hidden_size, num_classes),\n",
    "            nn.Softmax(dim=1),\n",
    "        )\n",
    "    def forward(self, x):\n",
    "        out = self.sequential(x)\n",
    "        return out"
   ]
  },
  {
   "cell_type": "code",
   "execution_count": 12,
   "id": "5e941f7b-146b-4ee1-baa6-557986f37321",
   "metadata": {},
   "outputs": [
    {
     "name": "stdout",
     "output_type": "stream",
     "text": [
      "NeuralNet2()\n"
     ]
    }
   ],
   "source": [
    "# input paramters\n",
    "input_size = 28*28*1 # MNIST image size\n",
    "hidden_size = 100 # hyper parameter\n",
    "num_classes = 10 # class number\n",
    "\n",
    "# def model\n",
    "model = NeuralNet2(input_size, hidden_size, num_classes).to(device)\n",
    "print(model)"
   ]
  },
  {
   "cell_type": "markdown",
   "id": "d3b2ab5e-6bdd-4896-823b-f18ed2c018f2",
   "metadata": {},
   "source": [
    "# Loss Function\n",
    "## Cross Entropy"
   ]
  },
  {
   "cell_type": "code",
   "execution_count": 13,
   "id": "1186389f-72d4-4a84-a732-94d5e3784cbc",
   "metadata": {},
   "outputs": [
    {
     "name": "stdout",
     "output_type": "stream",
     "text": [
      "tensor([ 0.4460,  1.9138, -0.1390])\n",
      "tensor([0., 1., 0.])\n"
     ]
    }
   ],
   "source": [
    "x = torch.randn(3)\n",
    "y = torch.tensor([0.0,1.0,0.0])\n",
    "print(x)\n",
    "print(y)"
   ]
  },
  {
   "cell_type": "code",
   "execution_count": 14,
   "id": "ff253530-f69e-437f-b360-def4595e40a7",
   "metadata": {},
   "outputs": [
    {
     "name": "stdout",
     "output_type": "stream",
     "text": [
      "BCE loss is :  tensor(0.5682)\n"
     ]
    }
   ],
   "source": [
    "# binary cross entropy\n",
    "bce_loss = nn.BCELoss()\n",
    "sigmoid = nn.Sigmoid()\n",
    "\n",
    "x_sig = sigmoid( x )\n",
    "print( \"BCE loss is : \", bce_loss( x_sig, y ) )"
   ]
  },
  {
   "cell_type": "code",
   "execution_count": 15,
   "id": "9cfd05bf-e7ee-4a76-9737-02a6a0bf4337",
   "metadata": {},
   "outputs": [
    {
     "name": "stdout",
     "output_type": "stream",
     "text": [
      "BCE with logit loss is :  tensor(0.5682)\n"
     ]
    }
   ],
   "source": [
    "# binary cross entropy with logit loss - it has sigmoid inside\n",
    "bce_logit_loss = nn.BCEWithLogitsLoss()\n",
    "print( \"BCE with logit loss is : \", bce_logit_loss( x, y ) )"
   ]
  },
  {
   "cell_type": "code",
   "execution_count": 16,
   "id": "497a6518-67e9-437c-a3e5-9ac3388e827e",
   "metadata": {},
   "outputs": [],
   "source": [
    "## Cross Entropy"
   ]
  },
  {
   "cell_type": "code",
   "execution_count": 17,
   "id": "d61e9454-c2cc-486f-88f9-ffc943f3c3aa",
   "metadata": {},
   "outputs": [
    {
     "name": "stdout",
     "output_type": "stream",
     "text": [
      "tensor([[ 2.2581, -0.7115,  0.1314, -0.4764,  0.3715, -0.8308, -1.0442, -0.1683,\n",
      "          0.2220,  0.7409]])\n",
      "tensor([1])\n"
     ]
    }
   ],
   "source": [
    "x = torch.randn(1,10)\n",
    "y = torch.tensor([1])\n",
    "print(x)\n",
    "print(y)"
   ]
  },
  {
   "cell_type": "code",
   "execution_count": 18,
   "id": "d6175eec-a979-4abc-a178-4a7c5e200297",
   "metadata": {},
   "outputs": [
    {
     "name": "stdout",
     "output_type": "stream",
     "text": [
      "Cross Entropy Loss is :  tensor(3.6154)\n"
     ]
    }
   ],
   "source": [
    "croosentropy = nn.CrossEntropyLoss()\n",
    "print( \"Cross Entropy Loss is : \", croosentropy(x, y) )"
   ]
  },
  {
   "cell_type": "markdown",
   "id": "c63b30a8-9bda-43e8-86e7-9c770b058c96",
   "metadata": {},
   "source": [
    "## MSE"
   ]
  },
  {
   "cell_type": "code",
   "execution_count": 19,
   "id": "387039f5-4177-4a8b-9c33-c235351d16d9",
   "metadata": {},
   "outputs": [
    {
     "name": "stdout",
     "output_type": "stream",
     "text": [
      "MSE loss is :  tensor(2.0113)\n"
     ]
    }
   ],
   "source": [
    "x = torch.randn(1,10)\n",
    "y = torch.randn(1,10)\n",
    "mse_loss = nn.MSELoss()\n",
    "print( \"MSE loss is : \", mse_loss( x, y ) )"
   ]
  }
 ],
 "metadata": {
  "kernelspec": {
   "display_name": "Python 3 (ipykernel)",
   "language": "python",
   "name": "python3"
  },
  "language_info": {
   "codemirror_mode": {
    "name": "ipython",
    "version": 3
   },
   "file_extension": ".py",
   "mimetype": "text/x-python",
   "name": "python",
   "nbconvert_exporter": "python",
   "pygments_lexer": "ipython3",
   "version": "3.12.7"
  }
 },
 "nbformat": 4,
 "nbformat_minor": 5
}
