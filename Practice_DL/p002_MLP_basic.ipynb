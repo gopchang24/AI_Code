{
 "cells": [
  {
   "cell_type": "markdown",
   "id": "fc25df67-a1e7-4fcc-945a-97417e654dba",
   "metadata": {},
   "source": [
    "# MultiLayer Perceptron - Basic"
   ]
  },
  {
   "cell_type": "markdown",
   "id": "dc73b20e-e993-41fa-867b-fda49f227798",
   "metadata": {},
   "source": [
    "## Deep Learning Model"
   ]
  },
  {
   "cell_type": "code",
   "execution_count": null,
   "id": "e573421d-55cf-436c-bbb7-64db513ea200",
   "metadata": {},
   "outputs": [],
   "source": []
  }
 ],
 "metadata": {
  "kernelspec": {
   "display_name": "Python 3 (ipykernel)",
   "language": "python",
   "name": "python3"
  },
  "language_info": {
   "codemirror_mode": {
    "name": "ipython",
    "version": 3
   },
   "file_extension": ".py",
   "mimetype": "text/x-python",
   "name": "python",
   "nbconvert_exporter": "python",
   "pygments_lexer": "ipython3",
   "version": "3.12.7"
  }
 },
 "nbformat": 4,
 "nbformat_minor": 5
}
